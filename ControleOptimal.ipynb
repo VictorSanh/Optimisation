{
 "cells": [
  {
   "cell_type": "code",
   "execution_count": 1,
   "metadata": {
    "collapsed": false
   },
   "outputs": [],
   "source": [
    "# Victor Sanh - Laila Zouaki\n",
    "from scipy.stats import binom\n",
    "import numpy as np\n",
    "import matplotlib.pyplot as plt\n",
    "%matplotlib inline"
   ]
  },
  {
   "cell_type": "code",
   "execution_count": 2,
   "metadata": {
    "collapsed": false
   },
   "outputs": [],
   "source": [
    "# Initialisation des variables\n",
    "s = 50\n",
    "T = 7\n",
    "V = np.zeros((T+1, s+1))\n",
    "U = np.zeros((T+1, s+1))\n",
    "uopt=0\n",
    "n = [15,12,10,10,10,40,40]"
   ]
  },
  {
   "cell_type": "code",
   "execution_count": 3,
   "metadata": {
    "collapsed": false
   },
   "outputs": [],
   "source": [
    "# Solve the optimization problem by dynamic programming\n",
    "\n",
    "for t in reversed(range(0, T)): #Boucle sur le temps : de T à 0\n",
    "    for x in range(0, s+1): #Boucle sur le stock possible : de 0 à 50\n",
    "        c_max = float('-inf')\n",
    "        for u in range(0,11): #Boucle sur l'achat possible : de 0 à 10\n",
    "            esperance = 0\n",
    "            for d in range(0,n[t]): #Boucle sur la demande possible : de\n",
    "                r = min(d, x+u) #Vente posssible : le max de la demande et du stock disponible\n",
    "                if (x-r+u<50):\n",
    "                    xnext = x-r+u\n",
    "                else:\n",
    "                    xnext = 49 # On jette le surplus que l'on ne peut pas stocker\n",
    "                esperance += binom.pmf(d, n[t], 0.5)*(2*r-u+V[t+1][xnext])  \n",
    "            if esperance>c_max:\n",
    "                c_max=esperance\n",
    "                uopt = u\n",
    "\n",
    "            V[t][x] = c_max\n",
    "            U[t][x] = uopt"
   ]
  },
  {
   "cell_type": "code",
   "execution_count": 4,
   "metadata": {
    "collapsed": false
   },
   "outputs": [
    {
     "data": {
      "image/png": "[encoded data removed]",
      "text/plain": [
       "<matplotlib.figure.Figure at 0x10a6dc310>"
      ]
     },
     "metadata": {},
     "output_type": "display_data"
    }
   ],
   "source": [
    "# Plot the value of the optimization problem in function of the initial stock s0\n",
    "\n",
    "stocks_initiaux = range(0, 51, 5)\n",
    "val_opt = []\n",
    "\n",
    "for stock in stocks_initiaux:\n",
    "    val_opt.append(V[0][stock])\n",
    "    \n",
    "plt.plot(stocks_initiaux , val_opt)\n",
    "plt.xlabel('Stock initial')\n",
    "plt.ylabel('Valeur optimale du probleme')\n",
    "plt.title('Valeur optimale du probleme en fonction du stock initial')\n",
    "plt.show()"
   ]
  },
  {
   "cell_type": "code",
   "execution_count": 5,
   "metadata": {
    "collapsed": false
   },
   "outputs": [
    {
     "name": "stdout",
     "output_type": "stream",
     "text": [
      "('Value of the optimization problem for s_0 = 15 : ', 80.716189660788217)\n"
     ]
    }
   ],
   "source": [
    "print(\"Value of the optimization problem for s_0 = 15 : \", V[0,15])"
   ]
  },
  {
   "cell_type": "code",
   "execution_count": 6,
   "metadata": {
    "collapsed": false
   },
   "outputs": [
    {
     "name": "stdout",
     "output_type": "stream",
     "text": [
      "('stock : ', array([ 15.,  17.,  16.,  18.,  22.,  29.,  12.,   2.]))\n",
      "('demande : ', array([  4.,   6.,   7.,   6.,   3.,  23.,  18.]))\n",
      "('achat : ', array([  6.,   5.,   9.,  10.,  10.,   6.,   8.]))\n"
     ]
    },
    {
     "name": "stderr",
     "output_type": "stream",
     "text": [
      "/usr/local/lib/python2.7/site-packages/ipykernel/__main__.py:9: DeprecationWarning: using a non-integer number instead of an integer will result in an error in the future\n"
     ]
    }
   ],
   "source": [
    "# Affichage d'une trajectoire simulée\n",
    "stock = np.zeros(T+1)\n",
    "demande = np.zeros(T)\n",
    "achat = np.zeros(T)\n",
    "\n",
    "stock[0] = 15\n",
    "for t in range(0,T):\n",
    "    demande[t] = np.random.binomial(n[t],0.5,1)\n",
    "    achat[t] = U[t][stock[t]]\n",
    "    vente = min(demande[t], stock[t]+achat[t])\n",
    "    stock[t+1]=stock[t]+achat[t]-vente\n",
    "    \n",
    "print(\"stock : \",stock)\n",
    "print(\"demande : \", demande)\n",
    "print(\"achat : \", achat)"
   ]
  }
 ],
 "metadata": {
  "kernelspec": {
   "display_name": "Python 2",
   "language": "python",
   "name": "python2"
  },
  "language_info": {
   "codemirror_mode": {
    "name": "ipython",
    "version": 2
   },
   "file_extension": ".py",
   "mimetype": "text/x-python",
   "name": "python",
   "nbconvert_exporter": "python",
   "pygments_lexer": "ipython2",
   "version": "2.7.11"
  }
 },
 "nbformat": 4,
 "nbformat_minor": 0
}
